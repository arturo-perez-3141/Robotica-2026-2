{
 "cells": [
  {
   "cell_type": "markdown",
   "id": "4ad60680-68ce-410c-b0e2-b4c1c133cd82",
   "metadata": {},
   "source": [
    "# Práctica 1: Manejo básico de herramientas"
   ]
  },
  {
   "cell_type": "markdown",
   "id": "0364f5ab",
   "metadata": {},
   "source": [
    "## Objetivo\n",
    "\n",
    "Que el alumno haga uso de las funciones de uso básico de las herramientas del curso (Ubuntu, Python, Jupyter, Github)"
   ]
  },
  {
   "cell_type": "markdown",
   "id": "283d924e",
   "metadata": {},
   "source": [
    "### Metas\n",
    "\n",
    "Que el alumno:\n",
    "- Integre texto en Markdown dentro de Jupyter\n",
    "- Integre código de Python dentro de Jupyter\n",
    "- Haga uso de la terminal de Ubuntu y contruya un script de bash\n",
    "- Genere un repositorio en GitHub y comparta su archivo de práctica"
   ]
  },
  {
   "cell_type": "markdown",
   "id": "66021773",
   "metadata": {},
   "source": [
    "### Contribución al perfil del egresado\n",
    "\n",
    "La siguiente práctica contribuye en los siguientes puntos al perfil del egresado:"
   ]
  },
  {
   "cell_type": "markdown",
   "id": "650038e0",
   "metadata": {},
   "source": [
    "#### Aptitudes y habilidades\n",
    "\n",
    "- Para diseñar, construir, operar y mantener los sistemas mecatrónicos y sus componentes.\n",
    "- Para crear, innovar o evaluar las tecnologías relacionadas con la mecatrónica."
   ]
  },
  {
   "cell_type": "markdown",
   "id": "35e56fe2",
   "metadata": {},
   "source": [
    "#### Actitudes profesionales\n",
    "\n",
    "- Ser creativo e innovador.\n",
    "- Tener confianza en su preparación académica.\n",
    "- Comprometido con su actualización, superación y competencia profesional."
   ]
  },
  {
   "cell_type": "markdown",
   "id": "33ee9807",
   "metadata": {},
   "source": [
    "#### Actitudes de tipo social\n",
    "\n",
    "- Promover el cambio en la mentalidad frente a la competitividad internacional."
   ]
  },
  {
   "cell_type": "markdown",
   "id": "3db59ed8",
   "metadata": {},
   "source": [
    "## Rúbrica de evaluación"
   ]
  },
  {
   "cell_type": "markdown",
   "id": "f6c7cd2e",
   "metadata": {},
   "source": [
    "### La evaluación de la práctica contará de los siguientes puntos\n",
    "\n",
    "| Elemento | Porcentaje |\n",
    "| ------:| ----------- |\n",
    "| **Cuestionario previo** | 15% | \n",
    "| **Desarrollo** | 35% |\n",
    "| **Análisis de resultados**  | 35% |\n",
    "| **Conclusiones** | 15% |"
   ]
  },
  {
   "cell_type": "markdown",
   "id": "57741f8a",
   "metadata": {},
   "source": [
    "### Se evaluará con los siguientes criterios:\n",
    "\n",
    "| Elemento | Malo | Regular | Bueno |\n",
    "| ------:| ------ | --------| ------|\n",
    "| **Cuestionario previo** | El trabajo no contiene cuestionario previo o todas las preguntas son incorrectas (0%)| Al menos la mitad de las preguntas son correctas (8%) |  Todas las preguntas son correctas (15%) |\n",
    "| **Desarrollo** | El trabajo no contiene desarrollo o su planteamiento no concuerda con lo deseado (0%) | El desarrollo está mal planteado o no llega a los resultados esperados (10%) | El desarrollo tiene un planteamiento adecuado y llega a los resultados esperados (35%) |\n",
    "| **Análisis de resultados**  | El trabajo no contiene análisis de resultados o la información no se está interpretando correctamente (0%) | La interpretación de los resultados es parcial o desorganizada (10%) | Realiza un correcto análisis de los resultados de forma organizada   (35%) |\n",
    "| **Conclusiones** | El trabajo no contiene conclusiones o no hacen referencia al trabajo desarrollado y los objetivos planteados (0%) | La redacción de las conclusiones es desorganizada o confusa (8%) | Las conclusiones del trabajo son claras y hacen referencia al trabajo desarrollado y los objetivos planteados (15%) | "
   ]
  },
  {
   "cell_type": "markdown",
   "id": "e5ff673e-01fd-4484-99fe-3a26e38c516e",
   "metadata": {},
   "source": [
    "## Introducción"
   ]
  },
  {
   "cell_type": "markdown",
   "id": "dafaaa10",
   "metadata": {},
   "source": [
    "En el desarrollo de la robótica moderna, es fundamental contar con un dominio básico de herramientas digitales que permiten documentar, programar y compartir proyectos.\n",
    "\n",
    "- <img src=\"imagenes/Ubuntu-logo.png\" height=60/> **Ubuntu** es un sistema operativo basado en Linux, muy usado en investigación y robótica gracias a su estabilidad y compatibilidad con librerías como ROS. El manejo de la terminal es esencial para automatizar tareas y ejecutar programas de manera eficiente.\n",
    "\n",
    "\n",
    "\n",
    "- <img src=\"imagenes/Jupyter-logo.png\" height=60/> **Jupyter** es una herramienta interactiva que facilita combinar texto, código y resultados en un mismo documento. Se utiliza ampliamente en ciencia de datos, aprendizaje automático y simulación robótica. Para texto utiliza el formato **Markdown**.\n",
    "\n",
    "\n",
    "\n",
    "- <img src=\"imagenes/Python-logo.png\" height=60/> **Python** es uno de los intérpretes más usados en robótica por su simplicidad y su gran ecosistema de librerías. En Jupyter, se puede combinar código Python con explicaciones en texto.\n",
    "\n",
    "\n",
    "\n",
    "- <img src=\"imagenes/Git-logo.png\" height=60/> **Git** es un sistema de control de versiones que permite llevar un historial de cambios en los archivos de una carpeta (repositorio), así como recuperar versiones anteriores, y trabajar en paralelo en \"*ramas*\" sin perder información. \n",
    "\n",
    "\n",
    "\n",
    "- <img src=\"imagenes/Github-logo.png\" height=60/> **Github** es una plataforma en línea que utiliza git para almacenar repositorios. Cuenta con herramientas para colaboración en equipo, documentación y despliegue.\n",
    "\n"
   ]
  },
  {
   "cell_type": "markdown",
   "id": "0ca966a0-89c6-434c-b39d-22dc0b54cde0",
   "metadata": {},
   "source": [
    "## Cuestionario previo"
   ]
  },
  {
   "cell_type": "markdown",
   "id": "fae60cb2",
   "metadata": {},
   "source": [
    "### Responder de forma breve las siguientes preguntas:\n",
    "\n",
    "- En linux, ¿a qué se refieren los términos sh, bash y shell?\n",
    "> RESPUESTA\n",
    "- ¿Python se considera un lenguaje de programación? ¿Por qué?\n",
    "> RESPUESTA\n",
    "- ¿Qué lenguajes o intérpretes se pueden usar en Jupyter?\n",
    "> RESPUESTA\n",
    "- ¿Cuál es la diferencia entre Git y GitHub?\n",
    "> RESPUESTA\n",
    "\n",
    "*En caso de integrar imagenes, colocarlas en la carpeta \"imagenes\"*"
   ]
  },
  {
   "cell_type": "markdown",
   "id": "fdcc24d0-38ff-4ca9-b068-35a9d34dfc10",
   "metadata": {},
   "source": [
    "## Desarrollo"
   ]
  },
  {
   "cell_type": "markdown",
   "id": "8ea2d641",
   "metadata": {},
   "source": [
    "### 1. Manejo de Ubuntu"
   ]
  },
  {
   "cell_type": "markdown",
   "id": "65bfe09f",
   "metadata": {},
   "source": [
    "En este primera parte, se creará un archivo .bash que:\n",
    "- Despliegue un mensaje de inicio\n",
    "- Se mueva a la carpeta de usuario\n",
    "- En caso de que no exista la carpeta \"Practica1\" la cree\n",
    "- Dentro, cree la carpeta \"Letras\" con los archivos \n",
    "    - a.txt\n",
    "    - b.txt\n",
    "    - c.txt\n",
    "- Dentro de la misma carpeta, cree la carpeta \"Integrantes\" con los archivos \n",
    "    - Nombre1.txt\n",
    "    - Nombre2.txt\n",
    "    - Nombre3.txt\n",
    "  \n",
    "  Siendo \"NombreN\" el nombre de cada integrante del equipo (sin espacios)\n",
    "- Despliegue un diagrama de la estructura de la carpeta \"Practica1\", con sus subcarpetas y archivos\n",
    "- Elimine la carpeta \"Practica1\", con sus subcarpetas y archivos\n",
    "- Conceder permisos de administrador al archivo y correrlo\n",
    "\n",
    "Como probatorios: \n",
    "- Incluir la imagen en una nueva celda.\n",
    "- Incluir el código en otra nueva celda."
   ]
  },
  {
   "cell_type": "markdown",
   "id": "8802332e",
   "metadata": {},
   "source": [
    "### 2. Markdown"
   ]
  },
  {
   "cell_type": "markdown",
   "id": "0a4cf491",
   "metadata": {},
   "source": [
    "En esta parte, crear una celda de markdown con:\n",
    "\n",
    "- La forma general de la matriz de transformación homogénea de un sistema j respecto a un sistema i\n",
    "- La forma general de la matriz de rotación de un sistema j respecto a un sistema i respecto al eje z\n",
    "- La forma general del vector de posición de un sistema j respecto a un sistema i\n",
    "- La forma general del vector de postura para un manipulador contenido en el plano XY\n",
    "- La forma general del vector de juntas para un manipulador RRR\n",
    "\n",
    "Colocar todo dentro de una tabla de dos columnas\n",
    "|Elemento|Ecuación|\n",
    "|----------|--------|\n",
    "|Elemento 1|Ecuación|\n",
    "|Elemento 2|Ecuación|\n",
    "|...       |...     |\n",
    "|Elemento N|Ecuación|"
   ]
  },
  {
   "cell_type": "markdown",
   "id": "a6d5a8da",
   "metadata": {},
   "source": [
    "### 3. Python"
   ]
  },
  {
   "cell_type": "markdown",
   "id": "f4fb68dc",
   "metadata": {},
   "source": [
    "Crear en python las siguientes celdas:\n",
    "\n",
    "- Definir una clase \"Calculadora\" con métodos \"suma\" y \"multiplicación\" que tomen dos parámetros y regresen el resultado de la operación\n",
    "- Definir una clase \"CalculadoraMultiple\" con métodos \"suma\" y \"multiplicación\" que tomen cualquier cantidad de parámetros y regresen el resultado de la operación \n",
    "- Instanciar ambas clases en una nueva celda y comprobar su funcionamiento"
   ]
  },
  {
   "cell_type": "markdown",
   "id": "d948dc9e",
   "metadata": {},
   "source": [
    "### 4. GitHub"
   ]
  },
  {
   "cell_type": "markdown",
   "id": "2943f9be",
   "metadata": {},
   "source": [
    "Generar un repositorio en línea llamado \"Robotica-2026-2\", donde se subirán los archivos de la práctica. Agregar a los miembros del equipo como colaboradores del repositorio.\n",
    "\n",
    "En la configuración del repositorio incluir  un archivo README.md, y en él colocar:\n",
    "\n",
    "- Una descripción del repositorio\n",
    "- Nombres de los integrantes del equipo\n",
    "\n",
    "Se recomienda primero crear el repositorio en línea, clonarlo en el ordenador y después incluir los archivos de la práctica. Para utilizar el repositorio para todas las prácticas posteriores, se recomienda usar la siguiente estructura de archivos:\n",
    "~~~ bash\n",
    "Robotica-2026-2/\n",
    "├── practica_1\n",
    "│   ├── images\n",
    "│   │   └── p1_1.png\n",
    "│   └── practica_1.ipynb\n",
    "├── README.md\n",
    "└── .gitignore\n",
    "~~~\n",
    "JupyterLab crea carpetas ocultas de nombre **\".ipynb_checkpoints/\"** con la versión anterior de los archivos que carga. Para evitar que estas versiones estén en el repositorio, agregaremos un archivo de configuración **\".gitignore\"**\n",
    "\n",
    "El archivo debe estar en la raíz del repositorio. Para las carpetas que queremos omitir, el archivo debe tener un renglón:\n",
    "\n",
    "> \\*\\*/.ipynb_checkpoints/\\*\n",
    "\n",
    "**Se puede usar como referencia el archivo **\".gitignore\"** de este repositorio"
   ]
  },
  {
   "attachments": {},
   "cell_type": "markdown",
   "id": "3a88c47d-d8a3-43cb-afee-5d54559450a7",
   "metadata": {
    "jp-MarkdownHeadingCollapsed": true
   },
   "source": [
    "## Análisis de resultados\n",
    "\n",
    "¿Qué utilidad tiene el uso de un repositorio en línea para código?\n",
    "> RESPUESTA\n",
    "\n",
    "¿Cuál es la convención de ángulos que utilizan los archivos URDF para los ángulos de las juntas respecto al eslabón padre?\n",
    "> RESPUESTA\n",
    "\n",
    "¿Qué utilidad tiene describir un robot en un archivo URDF?\n",
    "> RESPUESTA\n",
    "\n",
    "\n"
   ]
  },
  {
   "cell_type": "markdown",
   "id": "ed674101-3cbf-4c0e-b0cc-dcddfb09fba5",
   "metadata": {},
   "source": [
    "## Conclusiones\n",
    "\n",
    "En esta sección deberan escribir las conclusiones de la práctica con base en el objetivo planteado y las metas que se deban cumplir para su realización.\n",
    "\n",
    "## Bibliografía \n",
    "\n",
    "Se deben hacer referencia a la información implementada en formato ieee\n",
    "\n",
    "\n"
   ]
  }
 ],
 "metadata": {
  "kernelspec": {
   "display_name": "Python 3 (ipykernel)",
   "language": "python",
   "name": "python3"
  },
  "language_info": {
   "codemirror_mode": {
    "name": "ipython",
    "version": 3
   },
   "file_extension": ".py",
   "mimetype": "text/x-python",
   "name": "python",
   "nbconvert_exporter": "python",
   "pygments_lexer": "ipython3",
   "version": "3.10.12"
  }
 },
 "nbformat": 4,
 "nbformat_minor": 5
}
